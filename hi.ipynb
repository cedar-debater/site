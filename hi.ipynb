{
  "nbformat": 4,
  "nbformat_minor": 0,
  "metadata": {
    "colab": {
      "name": "Untitled1.ipynb",
      "version": "0.3.2",
      "provenance": [],
      "collapsed_sections": []
    },
    "kernelspec": {
      "name": "python2",
      "display_name": "Python 2"
    }
  },
  "cells": [
    {
      "metadata": {
        "id": "H4UKOCfB8oYb",
        "colab_type": "code",
        "colab": {}
      },
      "cell_type": "code",
      "source": [
        "__doc__ = \"\"\"Python 2/3 compatible\"\"\"\n",
        "def int2base26(x, base=26):\n",
        "    import string\n",
        "    digs = [string.ascii_letters][0][:26]\n",
        "    if x < 0:\n",
        "        sign = -1\n",
        "    elif x == 0:\n",
        "        return 0\n",
        "    else:\n",
        "        sign = 1\n",
        "    x *= sign\n",
        "    digits = []\n",
        "    while x:\n",
        "        digits.append(digs[int(x % base)])\n",
        "        x = int(x / base)\n",
        "    if sign < 0:\n",
        "        digits.append('-')\n",
        "    digits.reverse()\n",
        "    return ''.join(digits)\n",
        "\n",
        "if __name__ == \"__main__\":\n",
        "    dimensions = 60\n",
        "    length_of_board = 240/dimensions\n",
        "    width_of_board = 180/dimensions\n",
        "    words = []\n",
        "    try:\n",
        "        for i in xrange(1, (26**int(length_of_board))+1):\n",
        "            words.append(int2base26(i))\n",
        "    except:\n",
        "        for i in range(1, (26**int(length_of_board))+1):\n",
        "            words.append(int2base26(i))"
      ],
      "execution_count": 0,
      "outputs": []
    }
  ]
}
